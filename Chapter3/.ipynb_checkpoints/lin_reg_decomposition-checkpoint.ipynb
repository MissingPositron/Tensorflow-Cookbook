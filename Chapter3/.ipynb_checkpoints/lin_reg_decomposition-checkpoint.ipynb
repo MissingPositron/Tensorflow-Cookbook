{
 "cells": [
  {
   "cell_type": "markdown",
   "metadata": {},
   "source": [
    "Linear Regression: Using a Decomposition (Cholesky Method)\n",
    "________\n",
    "This script will use TensorFlow's function, tf.cholesky() to decompose our design matrix and solve for the parameter matrix from linear regression.\n",
    "For linear regression we are given the system $A \\cdot x = y$. Here, $A$ is our design matrix, $x$ is our parameter matrix (of interest), and $y$ is our target matrix (dependent values).\n",
    "For a Cholesky decomposition to work we assume that $A$ can be broken up into a product of a lower triangular matrix, $L$ and the transpose of the same matrix, $L^{T}$.\n",
    "Note that this is when $A$ is square. Of course, with an over determined system, $A$ is not square. So we factor the product $A^{T} \\cdot A$ instead. We then assume:\n",
    "$$A^{T} \\cdot A = L^{T} \\cdot L$$\n",
    "For more information on the Cholesky decomposition and it's uses, see the following wikipedia link: The Cholesky Decomposition\n",
    "Given that $A$ has a unique Cholesky decomposition, we can write our linear regression system as the following:\n",
    "$$ L^{T} \\cdot L \\cdot x = A^{T} \\cdot y $$\n",
    "Then we break apart the system as follows:\n",
    "$$L^{T} \\cdot z = A^{T} \\cdot y$$\n",
    "and\n",
    "$$L \\cdot x = z$$\n",
    "The steps we will take to solve for $x$ are the following\n",
    "Compute the Cholesky decomposition of $A$, where $A^{T} \\cdot A = L^{T} \\cdot L$.\n",
    "Solve ($L^{T} \\cdot z = A^{T} \\cdot y$) for $z$.\n",
    "Finally, solve ($L \\cdot x = z$) for $x$.\n",
    "We start by loading the necessary libraries."
   ]
  },
  {
   "cell_type": "code",
   "execution_count": 1,
   "metadata": {
    "collapsed": true
   },
   "outputs": [],
   "source": [
    "import matplotlib.pyplot as plt\n",
    "import numpy as np \n",
    "import tensorflow as tf\n",
    "from tensorflow.python.framework import ops\n",
    "ops.reset_default_graph()"
   ]
  },
  {
   "cell_type": "code",
   "execution_count": 2,
   "metadata": {
    "collapsed": true
   },
   "outputs": [],
   "source": [
    "sess = tf.Session()"
   ]
  },
  {
   "cell_type": "code",
   "execution_count": 5,
   "metadata": {},
   "outputs": [],
   "source": [
    "# Create data\n",
    "x_vals = np.linspace(0, 10, 100)\n",
    "y_vals = x_vals + np.random.normal(0, 1, 100)\n",
    "\n",
    "# Create design matrix\n",
    "x_vals_column = np.transpose(np.matrix(x_vals))\n",
    "ones_column = np.transpose(np.matrix(np.repeat(1, 100)))\n",
    "A = np.column_stack((x_vals_column, ones_column))\n",
    "\n",
    "y = np.transpose(np.matrix(y_vals))\n",
    "# Create tensors\n",
    "A_tensor = tf.constant(A)\n",
    "y_tensor = tf.constant(y)"
   ]
  },
  {
   "cell_type": "code",
   "execution_count": null,
   "metadata": {
    "collapsed": true
   },
   "outputs": [],
   "source": []
  }
 ],
 "metadata": {
  "kernelspec": {
   "display_name": "Python 3",
   "language": "python",
   "name": "python3"
  },
  "language_info": {
   "codemirror_mode": {
    "name": "ipython",
    "version": 3
   },
   "file_extension": ".py",
   "mimetype": "text/x-python",
   "name": "python",
   "nbconvert_exporter": "python",
   "pygments_lexer": "ipython3",
   "version": "3.6.1"
  }
 },
 "nbformat": 4,
 "nbformat_minor": 2
}
